{
 "cells": [
  {
   "cell_type": "code",
   "execution_count": 59,
   "metadata": {},
   "outputs": [],
   "source": [
    "from gensim.models import Word2Vec\n",
    "from gensim.utils import simple_preprocess\n",
    "from gensim.test.utils import common_texts\n",
    "import pandas as pd\n",
    "import nltk\n",
    "\n",
    "# german stopwords from https://github.com/solariz/german_stopwords/blob/master/german_stopwords_full.txt"
   ]
  },
  {
   "cell_type": "markdown",
   "metadata": {},
   "source": [
    "Read and preprocess Data"
   ]
  },
  {
   "cell_type": "code",
   "execution_count": 60,
   "metadata": {},
   "outputs": [],
   "source": [
    "\n",
    "# Step 1: Read and preprocess the text file\n",
    "\n",
    "\n",
    "def read_input(file_path):\n",
    "    with open(file_path, 'r', encoding=\"utf-8\") as f:\n",
    "        for line in f:\n",
    "            yield simple_preprocess(line)\n",
    "\n",
    "\n",
    "\n",
    "# Step 2: Tokenization\n",
    "data = list(read_input('wortkorpus/genderedWords.txt'))\n"
   ]
  },
  {
   "cell_type": "markdown",
   "metadata": {},
   "source": [
    "Remove Stopwords"
   ]
  },
  {
   "cell_type": "code",
   "execution_count": 61,
   "metadata": {},
   "outputs": [],
   "source": [
    "stopwords_t = \"\"\n",
    "\n",
    "with open('.\\stopwords.txt', \"r\", encoding='utf-8') as f:\n",
    "\n",
    "    stopwords_t = f.read()\n",
    "\n",
    "stopwords_list = stopwords_t.splitlines()\n",
    "\n",
    "data_cleared = []\n",
    "\n",
    "for line in data:\n",
    "    new_line = []\n",
    "    for token in line:\n",
    "        if token not in stopwords_list:\n",
    "            new_line.append(token)\n",
    "    data_cleared.append(new_line)"
   ]
  },
  {
   "cell_type": "markdown",
   "metadata": {},
   "source": [
    "Train Model on Data without Stopwords"
   ]
  },
  {
   "cell_type": "code",
   "execution_count": 62,
   "metadata": {},
   "outputs": [],
   "source": [
    "model = Word2Vec(sentences=data_cleared, vector_size=100,\n",
    "                 window=5, min_count=1, workers=4)\n",
    "\n",
    "model.save(\"./Wortmodel/gendered_german.model\")"
   ]
  },
  {
   "cell_type": "markdown",
   "metadata": {},
   "source": [
    "Tests"
   ]
  },
  {
   "cell_type": "code",
   "execution_count": 63,
   "metadata": {},
   "outputs": [
    {
     "data": {
      "text/plain": [
       "[('deutschland', 0.9445188641548157),\n",
       " ('stadt', 0.9380391836166382),\n",
       " ('menschen', 0.9321601986885071),\n",
       " ('polizei', 0.9290615320205688),\n",
       " ('jahren', 0.9282944202423096),\n",
       " ('jahre', 0.9268270134925842),\n",
       " ('unternehmen', 0.9228966236114502),\n",
       " ('deutschen', 0.921334981918335),\n",
       " ('zeit', 0.9158715009689331),\n",
       " ('große', 0.9152806401252747)]"
      ]
     },
     "execution_count": 63,
     "metadata": {},
     "output_type": "execute_result"
    }
   ],
   "source": [
    "model.wv.most_similar('mann', topn=10)\n",
    "\n"
   ]
  },
  {
   "cell_type": "code",
   "execution_count": 64,
   "metadata": {},
   "outputs": [
    {
     "name": "stdout",
     "output_type": "stream",
     "text": [
      "-0.017270964\n",
      "-0.009141309\n",
      "0.6177807\n",
      "0.6006744\n"
     ]
    }
   ],
   "source": [
    "print(str(model.wv.similarity('frau', 'fürsorge')))\n",
    "print(str(model.wv.similarity('mann', 'fürsorge')))\n",
    "\n",
    "print(str(model.wv.similarity('frau', 'kraft')))\n",
    "print(str(model.wv.similarity('mann', 'kraft')))"
   ]
  },
  {
   "cell_type": "markdown",
   "metadata": {},
   "source": [
    "Visualisierung"
   ]
  },
  {
   "cell_type": "code",
   "execution_count": null,
   "metadata": {},
   "outputs": [],
   "source": []
  },
  {
   "cell_type": "code",
   "execution_count": null,
   "metadata": {},
   "outputs": [],
   "source": []
  }
 ],
 "metadata": {
  "kernelspec": {
   "display_name": "Python 3",
   "language": "python",
   "name": "python3"
  },
  "language_info": {
   "codemirror_mode": {
    "name": "ipython",
    "version": 3
   },
   "file_extension": ".py",
   "mimetype": "text/x-python",
   "name": "python",
   "nbconvert_exporter": "python",
   "pygments_lexer": "ipython3",
   "version": "3.9.13"
  }
 },
 "nbformat": 4,
 "nbformat_minor": 2
}
