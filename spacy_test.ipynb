{
 "cells": [
  {
   "cell_type": "markdown",
   "metadata": {},
   "source": [
    "#### Spacy test"
   ]
  },
  {
   "cell_type": "code",
   "execution_count": 2,
   "metadata": {},
   "outputs": [],
   "source": [
    "import spacy\n",
    "nlp_de = spacy.load(\"de_core_news_lg\")"
   ]
  },
  {
   "cell_type": "code",
   "execution_count": 3,
   "metadata": {},
   "outputs": [
    {
     "data": {
      "text/html": [
       "<div>\n",
       "<style scoped>\n",
       "    .dataframe tbody tr th:only-of-type {\n",
       "        vertical-align: middle;\n",
       "    }\n",
       "\n",
       "    .dataframe tbody tr th {\n",
       "        vertical-align: top;\n",
       "    }\n",
       "\n",
       "    .dataframe thead th {\n",
       "        text-align: right;\n",
       "    }\n",
       "</style>\n",
       "<table border=\"1\" class=\"dataframe\">\n",
       "  <thead>\n",
       "    <tr style=\"text-align: right;\">\n",
       "      <th></th>\n",
       "      <th>Token</th>\n",
       "      <th>Lemma</th>\n",
       "      <th>POS</th>\n",
       "      <th>Tag</th>\n",
       "      <th>Morph</th>\n",
       "      <th>Dep</th>\n",
       "    </tr>\n",
       "  </thead>\n",
       "  <tbody>\n",
       "    <tr>\n",
       "      <th>0</th>\n",
       "      <td>Sie</td>\n",
       "      <td>ich</td>\n",
       "      <td>PRON</td>\n",
       "      <td>PPER</td>\n",
       "      <td>(Case=Nom, Gender=Fem, Number=Sing, Person=3, ...</td>\n",
       "      <td>sb</td>\n",
       "    </tr>\n",
       "    <tr>\n",
       "      <th>1</th>\n",
       "      <td>studierte</td>\n",
       "      <td>studieren</td>\n",
       "      <td>VERB</td>\n",
       "      <td>VVFIN</td>\n",
       "      <td>(Mood=Ind, Number=Sing, Person=3, Tense=Past, ...</td>\n",
       "      <td>ROOT</td>\n",
       "    </tr>\n",
       "    <tr>\n",
       "      <th>2</th>\n",
       "      <td>von</td>\n",
       "      <td>von</td>\n",
       "      <td>ADP</td>\n",
       "      <td>APPR</td>\n",
       "      <td>()</td>\n",
       "      <td>mo</td>\n",
       "    </tr>\n",
       "    <tr>\n",
       "      <th>3</th>\n",
       "      <td>1902</td>\n",
       "      <td>1902</td>\n",
       "      <td>NUM</td>\n",
       "      <td>CARD</td>\n",
       "      <td>()</td>\n",
       "      <td>nk</td>\n",
       "    </tr>\n",
       "    <tr>\n",
       "      <th>4</th>\n",
       "      <td>bis</td>\n",
       "      <td>bis</td>\n",
       "      <td>ADP</td>\n",
       "      <td>APPR</td>\n",
       "      <td>()</td>\n",
       "      <td>mo</td>\n",
       "    </tr>\n",
       "    <tr>\n",
       "      <th>...</th>\n",
       "      <td>...</td>\n",
       "      <td>...</td>\n",
       "      <td>...</td>\n",
       "      <td>...</td>\n",
       "      <td>...</td>\n",
       "      <td>...</td>\n",
       "    </tr>\n",
       "    <tr>\n",
       "      <th>89</th>\n",
       "      <td>Eisenablagerung</td>\n",
       "      <td>Eisenablagerung</td>\n",
       "      <td>NOUN</td>\n",
       "      <td>NN</td>\n",
       "      <td>(Case=Dat, Gender=Fem, Number=Sing)</td>\n",
       "      <td>nk</td>\n",
       "    </tr>\n",
       "    <tr>\n",
       "      <th>90</th>\n",
       "      <td>im</td>\n",
       "      <td>im</td>\n",
       "      <td>ADP</td>\n",
       "      <td>APPRART</td>\n",
       "      <td>(Case=Dat, Gender=Neut, Number=Sing)</td>\n",
       "      <td>mnr</td>\n",
       "    </tr>\n",
       "    <tr>\n",
       "      <th>91</th>\n",
       "      <td>Gehirn</td>\n",
       "      <td>Gehirn</td>\n",
       "      <td>NOUN</td>\n",
       "      <td>NN</td>\n",
       "      <td>(Case=Dat, Gender=Neut, Number=Sing)</td>\n",
       "      <td>nk</td>\n",
       "    </tr>\n",
       "    <tr>\n",
       "      <th>92</th>\n",
       "      <td>genannt.[4][5</td>\n",
       "      <td>genannt.[4][5</td>\n",
       "      <td>NOUN</td>\n",
       "      <td>NN</td>\n",
       "      <td>(Case=Nom, Gender=Masc, Number=Sing)</td>\n",
       "      <td>ROOT</td>\n",
       "    </tr>\n",
       "    <tr>\n",
       "      <th>93</th>\n",
       "      <td>]</td>\n",
       "      <td>]</td>\n",
       "      <td>PUNCT</td>\n",
       "      <td>$(</td>\n",
       "      <td>()</td>\n",
       "      <td>punct</td>\n",
       "    </tr>\n",
       "  </tbody>\n",
       "</table>\n",
       "<p>94 rows × 6 columns</p>\n",
       "</div>"
      ],
      "text/plain": [
       "              Token            Lemma    POS      Tag  \\\n",
       "0               Sie              ich   PRON     PPER   \n",
       "1         studierte        studieren   VERB    VVFIN   \n",
       "2               von              von    ADP     APPR   \n",
       "3              1902             1902    NUM     CARD   \n",
       "4               bis              bis    ADP     APPR   \n",
       "..              ...              ...    ...      ...   \n",
       "89  Eisenablagerung  Eisenablagerung   NOUN       NN   \n",
       "90               im               im    ADP  APPRART   \n",
       "91           Gehirn           Gehirn   NOUN       NN   \n",
       "92    genannt.[4][5    genannt.[4][5   NOUN       NN   \n",
       "93                ]                ]  PUNCT       $(   \n",
       "\n",
       "                                                Morph    Dep  \n",
       "0   (Case=Nom, Gender=Fem, Number=Sing, Person=3, ...     sb  \n",
       "1   (Mood=Ind, Number=Sing, Person=3, Tense=Past, ...   ROOT  \n",
       "2                                                  ()     mo  \n",
       "3                                                  ()     nk  \n",
       "4                                                  ()     mo  \n",
       "..                                                ...    ...  \n",
       "89                (Case=Dat, Gender=Fem, Number=Sing)     nk  \n",
       "90               (Case=Dat, Gender=Neut, Number=Sing)    mnr  \n",
       "91               (Case=Dat, Gender=Neut, Number=Sing)     nk  \n",
       "92               (Case=Nom, Gender=Masc, Number=Sing)   ROOT  \n",
       "93                                                 ()  punct  \n",
       "\n",
       "[94 rows x 6 columns]"
      ]
     },
     "execution_count": 3,
     "metadata": {},
     "output_type": "execute_result"
    }
   ],
   "source": [
    "import pandas as pd\n",
    "train_text = \"Sie studierte von 1902 bis 1907 an der Universität Königsberg Medizin und wurde 1909 promoviert. Anschließend arbeitete er in einem Krankenhaus und machte 1918 das Kreisarztexamen.[1] 1922[2] beschrieben Hallervorden und der Berliner Neuropathologe Hugo Spatz erstmals eine Krankheit, die zunächst Hallervorden-Spatz-Syndrom (HSS) genannt wurde[3]. Dieses Eponym wird heute aufgrund der nationalsozialistischen Vergangenheit von Hallervorden und Spatz (siehe weiter unten) zunehmend nicht mehr verwendet. Die Erkrankung wird heute je nach Kontext und Symptomen Pantothenatkinase-assoziierte Neurodegeneration oder allgemeiner Neurodegeneration mit Eisenablagerung im Gehirn genannt.[4][5]\"\n",
    "doc = nlp_de(train_text)\n",
    "pd.DataFrame({\"Token\": [token.text for token in doc],\n",
    "              \"Lemma\": [token.lemma_ for token in doc],\n",
    "              \"POS\": [token.pos_ for token in doc],\n",
    "              \"Tag\": [token.tag_ for token in doc],\n",
    "              \"Morph\": [token.morph for token in doc],\n",
    "              \"Dep\": [token.dep_ for token in doc]})\n",
    "\n"
   ]
  },
  {
   "cell_type": "code",
   "execution_count": 4,
   "metadata": {},
   "outputs": [
    {
     "name": "stdout",
     "output_type": "stream",
     "text": [
      "---nouns---\n",
      "Neuropathologe, NN, cj, NOUN, Neuropathologe, 234, 248\n",
      "Spatz, NN, cj, NOUN, Spatz, 446, 451\n",
      "Kontext, NN, nk, NOUN, Kontext, 539, 546\n",
      "genannt.[4][5, NN, ROOT, NOUN, genannt.[4][5, 674, 687\n",
      "---adjectives---\n",
      "Berliner\n"
     ]
    }
   ],
   "source": [
    "suffixes = [\"er\", \"ist\", \"ant\", \"ent\", \"eur\", \"ar\"]\n",
    "noun_list = []\n",
    "print('---nouns---')\n",
    "for token in doc:\n",
    "    if len(token.morph.get('Gender')) >= 1 and token.morph.get('Gender')[0] == \"Masc\" and (token.pos_ == 'NOUN'):\n",
    "      \n",
    "        print(token.text + ', ' + token.tag_ +\n",
    "              ', ' + token.dep_ + ', ' + token.pos_ + ', ' + token.lemma_ + ', ' + str(token.idx) + ', ' + str(token.idx + len(token.text)))\n",
    "            \n",
    "        noun_list.append(token)\n",
    "\n",
    "adjectives = []\n",
    "\n",
    "print('---adjectives---')\n",
    "for token in noun_list:\n",
    "    for child in token.children:\n",
    "        if child.pos_ == \"ADJ\":\n",
    "            adjectives.append(child)\n",
    "\n",
    "for token in adjectives:\n",
    "    print(token.text)"
   ]
  },
  {
   "cell_type": "code",
   "execution_count": 5,
   "metadata": {},
   "outputs": [
    {
     "name": "stdout",
     "output_type": "stream",
     "text": [
      "[Neuropathologe, Spatz, Kontext, genannt.[4][5]\n",
      "[Neuropathologe, Spatz, Kontext, genannt.[4][5]\n"
     ]
    }
   ],
   "source": [
    "print(noun_list)\n",
    "\n",
    "toDelete = []\n",
    "#toDelete.append(2)\n",
    "\n",
    "def clearMasculine(list):\n",
    "    for i in toDelete:\n",
    "        del noun_list[i]\n",
    "    return\n",
    "\n",
    "clearMasculine(toDelete)\n",
    "print(noun_list)"
   ]
  },
  {
   "cell_type": "code",
   "execution_count": 6,
   "metadata": {},
   "outputs": [
    {
     "name": "stdout",
     "output_type": "stream",
     "text": [
      "[Neuropathologe, Spatz, Kontext, genannt.[4][5]\n",
      "Neuropathologein; 234:248\n",
      "Spatzin; 446:451\n",
      "Kontextin; 539:546\n",
      "genannt.[4][5in; 674:687\n"
     ]
    }
   ],
   "source": [
    "class EditedWord:\n",
    "    def __init__(self, text, pos1, pos2):\n",
    "        self.text = text\n",
    "        self.pos1 = pos1\n",
    "        self.pos2 = pos2\n",
    "    def print(self):\n",
    "        print(self.text + \"; \" + str(self.pos1) + \":\" +str(self.pos2))\n",
    "\n",
    "edited_nouns = []\n",
    "edited_nouns.clear()\n",
    "print(noun_list)\n",
    "\n",
    "for token in noun_list:\n",
    "    if len(token.morph.get('Number')) >= 1 and token.morph.get('Number') == \"Plur\":\n",
    "        newtext = token.text + \"innen\"\n",
    "    elif len(token.morph.get('Number')) >= 1:\n",
    "        newtext = token.text + \"in\"\n",
    "\n",
    "    #print (newtext)\n",
    "   \n",
    "    edited_nouns.append(EditedWord(newtext, token.idx, (token.idx + len(token.text))))\n",
    "\n",
    "for obj in edited_nouns:\n",
    "     obj.print()"
   ]
  },
  {
   "cell_type": "code",
   "execution_count": 10,
   "metadata": {},
   "outputs": [
    {
     "name": "stdout",
     "output_type": "stream",
     "text": [
      "subject\n"
     ]
    }
   ],
   "source": [
    "print(spacy.explain(\"sb\"))"
   ]
  },
  {
   "cell_type": "code",
   "execution_count": 8,
   "metadata": {},
   "outputs": [
    {
     "name": "stdout",
     "output_type": "stream",
     "text": [
      "Neuropathologein; 234:248\n",
      "Sie studierte von 1902 bis 1907 an der Universität Königsberg Medizin und wurde 1909 promoviert. Anschließend arbeitete er in einem Krankenhaus und machte 1918 das Kreisarztexamen.[1] 1922[2] beschrieben Hallervorden und der Berliner Neuropathologein Hugo Spatz erstmals eine Krankheit, die zunächst Hallervorden-Spatz-Syndrom (HSS) genannt wurde[3]. Dieses Eponym wird heute aufgrund der nationalsozialistischen Vergangenheit von Hallervorden und Spatz (siehe weiter unten) zunehmend nicht mehr verwendet. Die Erkrankung wird heute je nach Kontext und Symptomen Pantothenatkinase-assoziierte Neurodegeneration oder allgemeiner Neurodegeneration mit Eisenablagerung im Gehirn genannt.[4][5]\n",
      "Spatzin; 446:451\n",
      "Sie studierte von 1902 bis 1907 an der Universität Königsberg Medizin und wurde 1909 promoviert. Anschließend arbeitete er in einem Krankenhaus und machte 1918 das Kreisarztexamen.[1] 1922[2] beschrieben Hallervorden und der Berliner Neuropathologein Hugo Spatz erstmals eine Krankheit, die zunächst Hallervorden-Spatz-Syndrom (HSS) genannt wurde[3]. Dieses Eponym wird heute aufgrund der nationalsozialistischen Vergangenheit von Hallervorden und Spatzin (siehe weiter unten) zunehmend nicht mehr verwendet. Die Erkrankung wird heute je nach Kontext und Symptomen Pantothenatkinase-assoziierte Neurodegeneration oder allgemeiner Neurodegeneration mit Eisenablagerung im Gehirn genannt.[4][5]\n",
      "Kontextin; 539:546\n",
      "Sie studierte von 1902 bis 1907 an der Universität Königsberg Medizin und wurde 1909 promoviert. Anschließend arbeitete er in einem Krankenhaus und machte 1918 das Kreisarztexamen.[1] 1922[2] beschrieben Hallervorden und der Berliner Neuropathologein Hugo Spatz erstmals eine Krankheit, die zunächst Hallervorden-Spatz-Syndrom (HSS) genannt wurde[3]. Dieses Eponym wird heute aufgrund der nationalsozialistischen Vergangenheit von Hallervorden und Spatzin (siehe weiter unten) zunehmend nicht mehr verwendet. Die Erkrankung wird heute je nach Kontextin und Symptomen Pantothenatkinase-assoziierte Neurodegeneration oder allgemeiner Neurodegeneration mit Eisenablagerung im Gehirn genannt.[4][5]\n",
      "genannt.[4][5in; 674:687\n",
      "Sie studierte von 1902 bis 1907 an der Universität Königsberg Medizin und wurde 1909 promoviert. Anschließend arbeitete er in einem Krankenhaus und machte 1918 das Kreisarztexamen.[1] 1922[2] beschrieben Hallervorden und der Berliner Neuropathologein Hugo Spatz erstmals eine Krankheit, die zunächst Hallervorden-Spatz-Syndrom (HSS) genannt wurde[3]. Dieses Eponym wird heute aufgrund der nationalsozialistischen Vergangenheit von Hallervorden und Spatzin (siehe weiter unten) zunehmend nicht mehr verwendet. Die Erkrankung wird heute je nach Kontextin und Symptomen Pantothenatkinase-assoziierte Neurodegeneration oder allgemeiner Neurodegeneration mit Eisenablagerung im Gehirn genannt.[4][5in]\n"
     ]
    }
   ],
   "source": [
    "\n",
    "def replace_words (original_text, words):\n",
    "    text=\"\"\n",
    "    i = 0\n",
    "    for word in words:\n",
    "        \n",
    "        word.print()\n",
    "        left, right = original_text[:word.pos1+i], original_text[word.pos2+i:]\n",
    "        text = left + word.text + right\n",
    "        print(text)\n",
    "        original_text = text\n",
    "        i+=2\n",
    "   \n",
    "\n",
    "replace_words(train_text, edited_nouns)"
   ]
  }
 ],
 "metadata": {
  "kernelspec": {
   "display_name": "Python 3",
   "language": "python",
   "name": "python3"
  },
  "language_info": {
   "codemirror_mode": {
    "name": "ipython",
    "version": 3
   },
   "file_extension": ".py",
   "mimetype": "text/x-python",
   "name": "python",
   "nbconvert_exporter": "python",
   "pygments_lexer": "ipython3",
   "version": "3.9.13"
  }
 },
 "nbformat": 4,
 "nbformat_minor": 2
}
